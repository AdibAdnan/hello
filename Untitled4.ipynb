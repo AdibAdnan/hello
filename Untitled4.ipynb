{
  "nbformat": 4,
  "nbformat_minor": 0,
  "metadata": {
    "colab": {
      "provenance": [],
      "authorship_tag": "ABX9TyNpgDhqYaLwqVSvhLr/178D",
      "include_colab_link": true
    },
    "kernelspec": {
      "name": "python3",
      "display_name": "Python 3"
    },
    "language_info": {
      "name": "python"
    }
  },
  "cells": [
    {
      "cell_type": "markdown",
      "metadata": {
        "id": "view-in-github",
        "colab_type": "text"
      },
      "source": [
        "<a href=\"https://colab.research.google.com/github/AdibAdnan/hello/blob/main/Untitled4.ipynb\" target=\"_parent\"><img src=\"https://colab.research.google.com/assets/colab-badge.svg\" alt=\"Open In Colab\"/></a>"
      ]
    },
    {
      "cell_type": "code",
      "execution_count": 1,
      "metadata": {
        "id": "lRV2DGrUvfhg",
        "colab": {
          "base_uri": "https://localhost:8080/"
        },
        "outputId": "217ab859-ca9e-4976-86c3-f243f49aa650"
      },
      "outputs": [
        {
          "name": "stdout",
          "output_type": "stream",
          "text": [
            "Options:\n",
            "Enter 'add' for addition\n",
            "Enter 'subtract' for subtraction\n",
            "Enter 'multiply' for multiplication\n",
            "Enter 'divide' for division\n",
            "Enter 'quit' to end the program\n",
            ": add\n",
            "Enter first number: 2\n",
            "Enter second number: 4\n",
            "Result: 6.0\n",
            "Options:\n",
            "Enter 'add' for addition\n",
            "Enter 'subtract' for subtraction\n",
            "Enter 'multiply' for multiplication\n",
            "Enter 'divide' for division\n",
            "Enter 'quit' to end the program\n",
            ": quite\n",
            "Invalid input\n",
            "Options:\n",
            "Enter 'add' for addition\n",
            "Enter 'subtract' for subtraction\n",
            "Enter 'multiply' for multiplication\n",
            "Enter 'divide' for division\n",
            "Enter 'quit' to end the program\n",
            ": quit\n"
          ]
        }
      ],
      "source": [
        "# prompt: create a calculator in python\n",
        "\n",
        "def add(x, y):\n",
        "    return x + y\n",
        "\n",
        "def subtract(x, y):\n",
        "    return x - y\n",
        "\n",
        "def multiply(x, y):\n",
        "    return x * y\n",
        "\n",
        "def divide(x, y):\n",
        "    if y == 0:\n",
        "        return \"Cannot divide by zero\"\n",
        "    return x / y\n",
        "\n",
        "while True:\n",
        "    print(\"Options:\")\n",
        "    print(\"Enter 'add' for addition\")\n",
        "    print(\"Enter 'subtract' for subtraction\")\n",
        "    print(\"Enter 'multiply' for multiplication\")\n",
        "    print(\"Enter 'divide' for division\")\n",
        "    print(\"Enter 'quit' to end the program\")\n",
        "\n",
        "    user_input = input(\": \")\n",
        "\n",
        "    if user_input == \"quit\":\n",
        "        break\n",
        "    elif user_input in (\"add\", \"subtract\", \"multiply\", \"divide\"):\n",
        "        num1 = float(input(\"Enter first number: \"))\n",
        "        num2 = float(input(\"Enter second number: \"))\n",
        "\n",
        "        if user_input == \"add\":\n",
        "            print(\"Result:\", add(num1, num2))\n",
        "        elif user_input == \"subtract\":\n",
        "            print(\"Result:\", subtract(num1, num2))\n",
        "        elif user_input == \"multiply\":\n",
        "            print(\"Result:\", multiply(num1, num2))\n",
        "        elif user_input == \"divide\":\n",
        "            print(\"Result:\", divide(num1, num2))\n",
        "    else:\n",
        "        print(\"Invalid input\")"
      ]
    }
  ]
}